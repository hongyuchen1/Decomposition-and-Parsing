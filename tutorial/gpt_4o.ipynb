{
 "cells": [
  {
   "cell_type": "markdown",
   "metadata": {},
   "source": [
    "## An example of automatic DP workflow with GPT-4o-2024-11-18"
   ]
  },
  {
   "cell_type": "code",
   "execution_count": null,
   "metadata": {},
   "outputs": [],
   "source": [
    "import pandas as pd\n",
    "from joblib import Parallel, delayed\n",
    "import sys\n",
    "sys.path.append('../src')\n",
    "from evaluation import Grader, convert_annotation\n",
    "from decomposition import main\n",
    "import copy"
   ]
  },
  {
   "cell_type": "markdown",
   "metadata": {},
   "source": [
    "### Covert annotation results to Pydantic objects"
   ]
  },
  {
   "cell_type": "code",
   "execution_count": 2,
   "metadata": {
    "scrolled": true
   },
   "outputs": [],
   "source": [
    "annotation_df = pd.read_excel(\"../data/Annotation.xlsx\", engine=\"openpyxl\", header=0)\n",
    "criteria = annotation_df[\"Original Content\"].dropna().tolist()\n",
    "in_or_exs = annotation_df[\"Inculsion/Exclusion\"].dropna().tolist()\n",
    "annotation_obj = convert_annotation(annotation_df)\n",
    "labels = []\n",
    "for trial_annotation in annotation_obj.values():\n",
    "    labels +=trial_annotation"
   ]
  },
  {
   "cell_type": "markdown",
   "metadata": {},
   "source": [
    "### Load API Key"
   ]
  },
  {
   "cell_type": "code",
   "execution_count": null,
   "metadata": {},
   "outputs": [],
   "source": [
    "import dotenv\n",
    "import os\n",
    "dotenv.load_dotenv()\n",
    "api_key = os.environ.get(\"API_KEY\")"
   ]
  },
  {
   "cell_type": "markdown",
   "metadata": {},
   "source": [
    "### Automatic DP"
   ]
  },
  {
   "cell_type": "code",
   "execution_count": null,
   "metadata": {},
   "outputs": [],
   "source": [
    "predictions = Parallel(n_jobs=32)(delayed(main)(criterion, in_or_ex, model='gpt-4o-2024-11-20', max_token=8192, api_key=api_key) for criterion, in_or_ex  in zip(criteria, in_or_exs))"
   ]
  },
  {
   "cell_type": "code",
   "execution_count": null,
   "metadata": {},
   "outputs": [],
   "source": [
    "# Save predictions\n",
    "import pickle\n",
    "with open('../data/predictions_gpt_4o.pkl','wb') as f:\n",
    "    pickle.dump(predictions, f)"
   ]
  },
  {
   "cell_type": "markdown",
   "metadata": {},
   "source": [
    "### Load Predictions"
   ]
  },
  {
   "cell_type": "code",
   "execution_count": 3,
   "metadata": {},
   "outputs": [],
   "source": [
    "import pickle\n",
    "with open('../data/predictions_gpt_4o.pkl','rb') as f:\n",
    "    predictions = pickle.load(f)"
   ]
  },
  {
   "cell_type": "code",
   "execution_count": 4,
   "metadata": {},
   "outputs": [
    {
     "name": "stdout",
     "output_type": "stream",
     "text": [
      "Number of annotated criteria: 81\n",
      "Number of predicted criteria: 81\n",
      "3 criteria failed to pass schema validation\n"
     ]
    }
   ],
   "source": [
    "print(f\"Number of annotated criteria: {len(labels)}\\nNumber of predicted criteria: {len(predictions)}\\n{sum(1 for item in predictions if item is None)} criteria failed to pass schema validation\")\n",
    "predictions = [item for item in predictions if item is not None]"
   ]
  },
  {
   "cell_type": "code",
   "execution_count": 5,
   "metadata": {
    "scrolled": true
   },
   "outputs": [
    {
     "name": "stderr",
     "output_type": "stream",
     "text": [
      "Warning: Empty candidate sentence detected; setting raw BERTscores to 0.\n",
      "Warning: Empty reference sentence detected; setting raw BERTScores to 0.\n",
      "Warning: Empty candidate sentence detected; setting raw BERTscores to 0.\n",
      "Warning: Empty reference sentence detected; setting raw BERTScores to 0.\n",
      "Warning: Empty candidate sentence detected; setting raw BERTscores to 0.\n",
      "Warning: Empty candidate sentence detected; setting raw BERTscores to 0.\n",
      "Warning: Empty candidate sentence detected; setting raw BERTscores to 0.\n",
      "Warning: Empty candidate sentence detected; setting raw BERTscores to 0.\n"
     ]
    },
    {
     "name": "stdout",
     "output_type": "stream",
     "text": [
      "\n",
      "        Evaluation Report:\n",
      "        ==================\n",
      "        1. Trial Extraction Evaluation:\n",
      "           - Precision: 0.78\n",
      "           - Recall: 0.85\n",
      "           - F1 Score: 0.81\n",
      "\n",
      "        2. Logic Relation Evaluation:\n",
      "            - Precision: 1.00\n",
      "            - Recall: 0.96\n",
      "            - F1 Score: 0.98\n",
      "\n",
      "        3. Trait-Level Evaluation:\n",
      "\n",
      "        BertScore:\n",
      "           - Main Entity Precision: 0.87\n",
      "           - Main Entity Recall: 0.86\n",
      "           - Main Entity F1 Score: 0.87\n",
      "\n",
      "           - Constraint Precision: 0.83\n",
      "           - Constraint Recall: 0.85\n",
      "           - Constraint F1 Score: 0.84\n",
      "\n",
      "           - Modifier Precision: 0.35\n",
      "           - Modifier Recall: 0.34\n",
      "           - Modifier F1 Score: 0.34\n",
      "\n",
      "        Classification:\n",
      "           - Main Entity Type\n",
      "                           precision    recall  f1-score   support\n",
      "\n",
      "   condition       0.90      0.92      0.91       134\n",
      " demographic       0.86      1.00      0.92         6\n",
      "      device       0.78      1.00      0.88         7\n",
      "        drug       0.67      0.97      0.79        33\n",
      " measurement       0.73      0.90      0.81        21\n",
      " observation       0.00      0.00      0.00         2\n",
      "       other       0.50      0.08      0.13        39\n",
      "   procedure       1.00      0.80      0.89         5\n",
      "\n",
      "    accuracy                           0.79       247\n",
      "   macro avg       0.68      0.71      0.67       247\n",
      "weighted avg       0.78      0.79      0.75       247\n",
      "\n",
      "\n",
      "           - Constraint Type\n",
      "                            precision    recall  f1-score   support\n",
      "\n",
      "          Age       1.00      1.00      1.00         5\n",
      "        Count       1.00      1.00      1.00         1\n",
      "       Dosage       1.00      1.00      1.00         4\n",
      "Duration time       0.67      0.75      0.71         8\n",
      "       Gender       1.00      1.00      1.00         1\n",
      "         None       1.00      1.00      1.00       122\n",
      "         Time       0.90      0.86      0.88        21\n",
      "        Value       1.00      1.00      1.00        18\n",
      "\n",
      "     accuracy                           0.97       180\n",
      "    macro avg       0.95      0.95      0.95       180\n",
      " weighted avg       0.97      0.97      0.97       180\n",
      "\n",
      "\n",
      "           - Computable Precision: 0.76\n",
      "           - Computable Recall: 0.79\n",
      "           - Computable F1 Score: 0.77\n",
      "\n",
      "           - Negation Precision: 0.93\n",
      "           - Negation Recall: 0.92\n",
      "           - Negation F1 Score: 0.92\n",
      "\n",
      "\n",
      "        4. Trait Confusion Matrix:\n",
      "              - TP: 247.0\n",
      "              - FP: 71.0\n",
      "              - FN: 42.0\n",
      "\n",
      "        Total Criteria Evaluated: 78\n",
      "        \n"
     ]
    }
   ],
   "source": [
    "grader = Grader(labels, copy.deepcopy(predictions), model_type=\"microsoft/deberta-xlarge-mnli\", num_layers=40)\n",
    "print(grader.generate_report())"
   ]
  },
  {
   "cell_type": "code",
   "execution_count": null,
   "metadata": {},
   "outputs": [],
   "source": []
  }
 ],
 "metadata": {
  "kernelspec": {
   "display_name": "DecompositionAndParsing",
   "language": "python",
   "name": "decompositionandparsing"
  },
  "language_info": {
   "codemirror_mode": {
    "name": "ipython",
    "version": 3
   },
   "file_extension": ".py",
   "mimetype": "text/x-python",
   "name": "python",
   "nbconvert_exporter": "python",
   "pygments_lexer": "ipython3",
   "version": "3.11.8"
  }
 },
 "nbformat": 4,
 "nbformat_minor": 4
}
