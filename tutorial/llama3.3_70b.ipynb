{
 "cells": [
  {
   "cell_type": "markdown",
   "metadata": {},
   "source": [
    "## An example of automatic DP workflow with Llama3.3-70B-Instruct "
   ]
  },
  {
   "cell_type": "code",
   "execution_count": null,
   "metadata": {},
   "outputs": [],
   "source": [
    "import pandas as pd\n",
    "from joblib import Parallel, delayed\n",
    "import sys\n",
    "sys.path.append('../src')\n",
    "from evaluation import Grader, convert_annotation\n",
    "from decomposition import main\n",
    "import copy"
   ]
  },
  {
   "cell_type": "markdown",
   "metadata": {},
   "source": [
    "### Covert annotation results to Pydantic objects"
   ]
  },
  {
   "cell_type": "code",
   "execution_count": 2,
   "metadata": {
    "scrolled": true
   },
   "outputs": [],
   "source": [
    "annotation_df = pd.read_excel(\"../data/Annotation.xlsx\", engine=\"openpyxl\", header=0)\n",
    "criteria = annotation_df[\"Original Content\"].dropna().tolist()\n",
    "in_or_exs = annotation_df[\"Inculsion/Exclusion\"].dropna().tolist()\n",
    "annotation_obj = convert_annotation(annotation_df)\n",
    "labels = []\n",
    "for trial_annotation in annotation_obj.values():\n",
    "    labels +=trial_annotation"
   ]
  },
  {
   "cell_type": "markdown",
   "metadata": {},
   "source": [
    "### Automatic DP"
   ]
  },
  {
   "cell_type": "code",
   "execution_count": null,
   "metadata": {},
   "outputs": [],
   "source": [
    "predictions = Parallel(n_jobs=32)(delayed(main)(criterion, in_or_ex, model='meta-llama/Llama-3.3-70B-Instruct', max_token=8192) for criterion, in_or_ex  in zip(criteria, in_or_exs))"
   ]
  },
  {
   "cell_type": "code",
   "execution_count": null,
   "metadata": {},
   "outputs": [],
   "source": [
    "# Save predictions\n",
    "import pickle\n",
    "with open('../data/predictions_llama3.3.pkl','wb') as f:\n",
    "    pickle.dump(predictions, f)"
   ]
  },
  {
   "cell_type": "markdown",
   "metadata": {},
   "source": [
    "### Load Predictions"
   ]
  },
  {
   "cell_type": "code",
   "metadata": {},
   "source": [
    "import pickle\n",
    "with open('../data/predictions_llama3.3.pkl','rb') as f:\n",
    "    predictions = pickle.load(f)"
   ],
   "outputs": [],
   "execution_count": null
  },
  {
   "cell_type": "code",
   "execution_count": 4,
   "metadata": {},
   "outputs": [
    {
     "name": "stdout",
     "output_type": "stream",
     "text": [
      "Number of annotated criteria: 81\n",
      "Number of predicted criteria: 81\n",
      "0 criteria failed to pass schema validation\n"
     ]
    }
   ],
   "source": [
    "print(f\"Number of annotated criteria: {len(labels)}\\nNumber of predicted criteria: {len(predictions)}\\n{sum(1 for item in predictions if item is None)} criteria failed to pass schema validation\")\n",
    "predictions = [item for item in predictions if item is not None]"
   ]
  },
  {
   "cell_type": "code",
   "execution_count": 5,
   "metadata": {
    "scrolled": true
   },
   "outputs": [
    {
     "name": "stderr",
     "output_type": "stream",
     "text": [
      "Warning: Empty candidate sentence detected; setting raw BERTscores to 0.\n",
      "Warning: Empty reference sentence detected; setting raw BERTScores to 0.\n",
      "Warning: Empty candidate sentence detected; setting raw BERTscores to 0.\n",
      "Warning: Empty reference sentence detected; setting raw BERTScores to 0.\n",
      "Warning: Empty candidate sentence detected; setting raw BERTscores to 0.\n",
      "Warning: Empty candidate sentence detected; setting raw BERTscores to 0.\n"
     ]
    },
    {
     "name": "stdout",
     "output_type": "stream",
     "text": [
      "\n",
      "        Evaluation Report:\n",
      "        ==================\n",
      "        1. Trial Extraction Evaluation:\n",
      "           - Precision: 0.75\n",
      "           - Recall: 0.82\n",
      "           - F1 Score: 0.78\n",
      "\n",
      "        2. Logic Relation Evaluation:\n",
      "            - Precision: 0.99\n",
      "            - Recall: 0.98\n",
      "            - F1 Score: 0.99\n",
      "\n",
      "        3. Trait-Level Evaluation:\n",
      "\n",
      "        BertScore:\n",
      "           - Main Entity Precision: 0.86\n",
      "           - Main Entity Recall: 0.86\n",
      "           - Main Entity F1 Score: 0.85\n",
      "\n",
      "           - Constraint Precision: 0.84\n",
      "           - Constraint Recall: 0.87\n",
      "           - Constraint F1 Score: 0.85\n",
      "\n",
      "           - Modifier Precision: 0.36\n",
      "           - Modifier Recall: 0.36\n",
      "           - Modifier F1 Score: 0.36\n",
      "\n",
      "        Classification:\n",
      "           - Main Entity Type\n",
      "                           precision    recall  f1-score   support\n",
      "\n",
      "   condition       0.83      0.96      0.89       126\n",
      " demographic       0.86      1.00      0.92         6\n",
      "      device       0.00      0.00      0.00         0\n",
      "        drug       0.64      0.93      0.76        29\n",
      " measurement       0.77      0.92      0.84        26\n",
      " observation       0.00      0.00      0.00         0\n",
      "       other       1.00      0.07      0.14        40\n",
      "   procedure       1.00      0.40      0.57         5\n",
      "\n",
      "    accuracy                           0.79       232\n",
      "   macro avg       0.64      0.54      0.52       232\n",
      "weighted avg       0.84      0.79      0.73       232\n",
      "\n",
      "\n",
      "           - Constraint Type\n",
      "                            precision    recall  f1-score   support\n",
      "\n",
      "          Age       1.00      1.00      1.00         5\n",
      "        Count       1.00      1.00      1.00         1\n",
      "       Dosage       1.00      0.75      0.86         4\n",
      "Duration time       0.56      1.00      0.72         9\n",
      "         None       1.00      1.00      1.00        88\n",
      "        Other       0.00      0.00      0.00         0\n",
      "         Time       1.00      0.63      0.77        19\n",
      "        Value       1.00      1.00      1.00        26\n",
      "\n",
      "     accuracy                           0.95       152\n",
      "    macro avg       0.82      0.80      0.79       152\n",
      " weighted avg       0.97      0.95      0.95       152\n",
      "\n",
      "\n",
      "           - Computable Precision: 0.79\n",
      "           - Computable Recall: 0.83\n",
      "           - Computable F1 Score: 0.78\n",
      "\n",
      "           - Negation Precision: 0.92\n",
      "           - Negation Recall: 0.88\n",
      "           - Negation F1 Score: 0.90\n",
      "\n",
      "\n",
      "        4. Trait Confusion Matrix:\n",
      "              - TP: 232.0\n",
      "              - FP: 79.0\n",
      "              - FN: 51.0\n",
      "\n",
      "        Total Criteria Evaluated: 81\n",
      "        \n"
     ]
    }
   ],
   "source": [
    "grader = Grader(labels, copy.deepcopy(predictions), model_type=\"microsoft/deberta-xlarge-mnli\", num_layers=40)\n",
    "print(grader.generate_report())"
   ]
  }
 ],
 "metadata": {
  "kernelspec": {
   "display_name": "DecompositionAndParsing",
   "language": "python",
   "name": "decompositionandparsing"
  },
  "language_info": {
   "codemirror_mode": {
    "name": "ipython",
    "version": 3
   },
   "file_extension": ".py",
   "mimetype": "text/x-python",
   "name": "python",
   "nbconvert_exporter": "python",
   "pygments_lexer": "ipython3",
   "version": "3.11.8"
  }
 },
 "nbformat": 4,
 "nbformat_minor": 4
}
